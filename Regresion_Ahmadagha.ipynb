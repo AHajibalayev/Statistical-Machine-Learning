{
  "cells": [
    {
      "cell_type": "markdown",
      "metadata": {
        "id": "view-in-github",
        "colab_type": "text"
      },
      "source": [
        "<a href=\"https://colab.research.google.com/github/AHajibalayev/Statistical-Machine-Learning/blob/main/Regresion_Ahmadagha.ipynb\" target=\"_parent\"><img src=\"https://colab.research.google.com/assets/colab-badge.svg\" alt=\"Open In Colab\"/></a>"
      ]
    },
    {
      "cell_type": "code",
      "execution_count": null,
      "metadata": {
        "id": "lp4CHFISKZ60"
      },
      "outputs": [],
      "source": [
        "import numpy as np\n",
        "import random\n",
        "from matplotlib import pyplot as plt\n",
        "import numpy.linalg as la"
      ]
    },
    {
      "cell_type": "markdown",
      "metadata": {
        "id": "lPS0rreMKASp"
      },
      "source": [
        "# Linear Regression\n",
        "------------------\n",
        "We are going to perform linear regression and fit a polynomial to a set of points\n",
        "\n",
        "We consider a linear regression problem of the form\n",
        "$$\n",
        "y = \\mathbf{x}^T θ +ϵ, \\; ϵ \\sim \\mathcal{N}(0, σ^2)\n",
        "$$\n",
        "where $\\mathbf{x}\\in \\mathcal{R}^D$ are inputs and $y \\in \\mathcal{R}$ are noisy observations.\n",
        "\n",
        "We are interested in finding a good estimate of the parameters $\\theta$"
      ]
    },
    {
      "cell_type": "markdown",
      "metadata": {
        "id": "LfCzTmmmbFeO"
      },
      "source": [
        "## The data\n",
        "We will generate the data to work with\n",
        "\n",
        "The data will be split into a training set and a test set"
      ]
    },
    {
      "cell_type": "code",
      "execution_count": null,
      "metadata": {
        "id": "jIacSF9yKSAn"
      },
      "outputs": [],
      "source": [
        "# First we generate the data to work with\n",
        "Ntrain = 20\n"
      ]
    },
    {
      "cell_type": "code",
      "execution_count": null,
      "metadata": {
        "id": "p_bzkgSRKXrH"
      },
      "outputs": [],
      "source": [
        "# generate N random sample points btw [-5, 5] uniformly\n",
        "# generate the y's with an additive Gaussian noise\n",
        "mu, sigma = 0, 0.2\n",
        "eps = np.random.normal(mu, sigma, Ntrain).reshape(-1,1)\n",
        "\n",
        "xtrain = np.random.uniform(-5, 5, size=(1, Ntrain)).reshape(-1,1)\n",
        "ytrain = - np.sin(xtrain/5) + np.cos(xtrain) + eps"
      ]
    },
    {
      "cell_type": "code",
      "execution_count": null,
      "metadata": {
        "colab": {
          "base_uri": "https://localhost:8080/",
          "height": 489
        },
        "id": "VKkMjeyTQMj5",
        "outputId": "80a4951b-b412-40d0-9a5e-b1e1cc0cd8ce"
      },
      "outputs": [
        {
          "data": {
            "text/plain": [
              "Text(0.5, 1.0, 'training data')"
            ]
          },
          "execution_count": 24,
          "metadata": {},
          "output_type": "execute_result"
        },
        {
          "data": {
            "image/png": "[encoded data removed]",
            "text/plain": [
              "<Figure size 640x480 with 1 Axes>"
            ]
          },
          "metadata": {},
          "output_type": "display_data"
        }
      ],
      "source": [
        "# plot the training data\n",
        "plt.figure()\n",
        "plt.plot(xtrain, ytrain, 'xb')\n",
        "plt.xlabel(\"$x$\")\n",
        "plt.ylabel(\"$y$\")\n",
        "plt.title(\"training data\")"
      ]
    },
    {
      "cell_type": "markdown",
      "metadata": {
        "id": "AZvyfm46QVWE"
      },
      "source": [
        "# 1. Maximum likelihood estimate\n",
        "From the lecture we know that the ML estilmator for $θ$ is given by\n",
        "$$\n",
        "θ_{ML} = (X^TX)^{-1}X^T y\n",
        "$$\n",
        "where $X \\in \\mathcal{R}^{N×D}$ and $y \\in \\mathcal{R}^N$.\n"
      ]
    },
    {
      "cell_type": "code",
      "execution_count": null,
      "metadata": {
        "id": "jSK_V5jbRTmf"
      },
      "outputs": [],
      "source": [
        "## EDIT THIS FUNCTION\n",
        "def max_likelihood_estimate(X,y):\n",
        "    # X : N x D matrix of training inputs\n",
        "    # y: N x 1 vector of training targets\n",
        "    # returns: maximum likelihhod estimated parameters (D x 1)\n",
        "    theta_ml = np.dot(la.inv(np.dot(X.T, X)), np.dot(X.T, y))\n",
        "    return theta_ml"
      ]
    },
    {
      "cell_type": "markdown",
      "metadata": {
        "id": "_76hQGK5SxJl"
      },
      "source": [
        "Before we can test our function we need to decide which polynomial we want to fit.\n",
        "\n",
        "Let's try a linear function, that is $M=1$\n",
        "$$\n",
        "f(x_i) = θ_0 + θ_1 x_i\n",
        "$$"
      ]
    },
    {
      "cell_type": "code",
      "execution_count": null,
      "metadata": {
        "id": "GvbfsF1fS7aS"
      },
      "outputs": [],
      "source": [
        "# Define the matrix X\n",
        "# We need the define the data matrix X of size N X 2 (we addd a column of 1)\n",
        "\n",
        "def make_data_matrix(x):\n",
        "  # x : N x 1 input vetcor\n",
        "  # returns data matrix XX of size N x 2\n",
        "    N = x.shape[0]            # Number of samples\n",
        "    ones = np.ones((N, 1))    # Column of ones for the bias term\n",
        "    X = np.hstack((ones, x))\n",
        "    return X"
      ]
    },
    {
      "cell_type": "code",
      "execution_count": null,
      "metadata": {
        "colab": {
          "base_uri": "https://localhost:8080/"
        },
        "id": "MPUjNIRiR8of",
        "outputId": "75b495f3-c50a-4542-d3f1-384f440b184d"
      },
      "outputs": [
        {
          "name": "stdout",
          "output_type": "stream",
          "text": [
            "estimated parameters :\n",
            " [[-0.34609135]\n",
            " [-0.20646353]]\n"
          ]
        }
      ],
      "source": [
        "# Apply the functions and estimate the parameters of the model\n",
        "XX_train = make_data_matrix(xtrain)\n",
        "theta_ml = max_likelihood_estimate(XX_train, ytrain)\n",
        "print(\"estimated parameters :\\n\", theta_ml)"
      ]
    },
    {
      "cell_type": "markdown",
      "metadata": {
        "id": "eI-A5-sMSH2I"
      },
      "source": [
        "Now let's make prediction with our estimation"
      ]
    },
    {
      "cell_type": "code",
      "execution_count": null,
      "metadata": {
        "id": "POSJRZ4aTpTv"
      },
      "outputs": [],
      "source": [
        "## ## EDIT THIS FUNCTION\n",
        "def predict_with_estimate(Xtest, theta):\n",
        "\n",
        "  # Xtest : K x D matrix of test inputs\n",
        "  # theta: D x 1 vector of parameters\n",
        "  # returns: prediction of f(Xtest): K x 1 vector\n",
        "\n",
        "  # to be completed\n",
        "    prediction = np.dot(Xtest, theta)\n",
        "\n",
        "    return prediction"
      ]
    },
    {
      "cell_type": "code",
      "execution_count": null,
      "metadata": {
        "id": "Ss3BZgSvTYw_"
      },
      "outputs": [],
      "source": [
        "# predict the function values at test points using the ML estimator\n",
        "# first let's define test points\n",
        "xtest = np.linspace(-6, 6, 100).reshape(-1,1) # generate 100 points uniformly spaced\n",
        "ytest = - np.sin(xtest/5) + np.cos(xtest) + np.random.normal(mu, sigma, 100).reshape(-1,1)\n",
        "\n",
        "XX_test = make_data_matrix(xtest)\n",
        "ml_pred = predict_with_estimate(XX_test, theta_ml)"
      ]
    },
    {
      "cell_type": "code",
      "execution_count": null,
      "metadata": {
        "id": "hGLaU3OQULHD",
        "scrolled": true,
        "outputId": "7654a565-f028-4ed7-819b-712df08aa987"
      },
      "outputs": [
        {
          "data": {
            "text/plain": [
              "<matplotlib.legend.Legend at 0x20334f6d940>"
            ]
          },
          "execution_count": 30,
          "metadata": {},
          "output_type": "execute_result"
        },
        {
          "data": {
            "image/png": "[encoded data removed]",
            "text/plain": [
              "<Figure size 640x480 with 1 Axes>"
            ]
          },
          "metadata": {},
          "output_type": "display_data"
        }
      ],
      "source": [
        "# plot the test data and the estimated polynomial\n",
        "plt.figure\n",
        "plt.plot(xtrain, ytrain, 'xb')\n",
        "plt.plot(xtest, ml_pred, '-r')\n",
        "plt.xlabel(\"$x$\")\n",
        "plt.ylabel(\"$y$\")\n",
        "plt.title(\"polynomial with M = 1\")\n",
        "plt.legend([\"data\", \"maximum likelihood fit\"])"
      ]
    },
    {
      "cell_type": "markdown",
      "metadata": {
        "id": "ZFJMziZ8axz9"
      },
      "source": [
        "## Question\n",
        "What can you say about this polynomial fit?"
      ]
    },
    {
      "cell_type": "markdown",
      "metadata": {
        "id": "id2Ncuj6I5Zd"
      },
      "source": [
        "**Answer**: In my opinion, in terms of linear regression, this is the most suitable line to fit this given data. The best fit line is the line that the error between the actual values and predicted values should be minumum. But linear regression is not always the best line to describe the function."
      ]
    },
    {
      "cell_type": "markdown",
      "metadata": {
        "id": "Ydbds_i4YF1r"
      },
      "source": [
        "# 2. Polynomial Regression\n",
        "\n",
        "One class of functions that is covered by linear regression is the family of polynomials because we can write a polynomial of degree K\n",
        "as\n",
        "$$\n",
        "\\sum_{k=0}^K \\theta_k x^k = \\phi(x)^T θ, \\qquad \\phi(x) = \\begin{bmatrix} x^0 \\\\ x^1 \\\\ \\vdots \\\\x^K \\end{bmatrix}\n",
        "$$\n",
        "Here, ϕ(x) is a nonlinear feature transformation of the inputs x∈ℝ.\n",
        "\n",
        "Let us start by computing the feature matrix $\\Phi = [\\phi(x_1), \\ldots, \\phi(x_n)]^T \\in \\mathcal{R}^{N × K+1}$"
      ]
    },
    {
      "cell_type": "code",
      "execution_count": null,
      "metadata": {
        "id": "PHmvDIWgZTGM"
      },
      "outputs": [],
      "source": [
        "## EDIT THIS FUNCTION\n",
        "def poly_features(X, K):\n",
        "\n",
        "    # X: inputs of size N x 1\n",
        "    # K: degree of the polynomial\n",
        "    # returns the feature matrix Phi (N x (K+1))\n",
        "\n",
        "    X = X.flatten()\n",
        "    N = X.shape[0]\n",
        "\n",
        "    #initialize Phi\n",
        "    Phi = np.zeros((N, K+1))\n",
        "\n",
        "    # Compute the feature matrix in stages\n",
        "    ## <--- EDIT THIS LINE\n",
        "    for i in range(K+1):\n",
        "        Phi[:, i] = X**i\n",
        "    return Phi"
      ]
    },
    {
      "cell_type": "markdown",
      "metadata": {
        "id": "eqG7NH27Zvud"
      },
      "source": [
        "With this feature matrix we get the maximum likelihood estimator as\n",
        "$$\n",
        "θ_{ML} = (Φ^T Φ)^{-1}Φ^T y\n",
        "$$\n",
        "For reasons of numerical stability, we often add a small diagonal \"jitter\" $κ >0$ to $Φ^TΦ$ so that we can invert the matrix without significant problems, and so the maximum likelihood estimate becomes\n",
        "$$\n",
        "θ_{ML} = (Φ^T Φ + κ I)^{-1}Φ^T y\n",
        "$$"
      ]
    },
    {
      "cell_type": "code",
      "execution_count": null,
      "metadata": {
        "id": "VJeZmJkJZwec"
      },
      "outputs": [],
      "source": [
        "## EDIT THIS FUNCTION\n",
        "def nonlinear_features_maximum_likelihood(Phi, y):\n",
        "    # Phi: features matrix for training inputs. Size of N x D\n",
        "    # y: training targets. Size of N by 1\n",
        "    # returns: maximum likelihood estimator theta_ml. Size of D x 1\n",
        "\n",
        "    kappa = 1e-08 # 'jitter' term; good for numerical stability\n",
        "\n",
        "    D = Phi.shape[1]\n",
        "\n",
        "    # maximum likelihood estimate\n",
        "    theta_ml = np.dot(la.inv(np.dot(Phi.T, Phi) + np.dot(kappa, np.identity(D))), np.dot(Phi.T, y))\n",
        "\n",
        "    return theta_ml"
      ]
    },
    {
      "cell_type": "code",
      "execution_count": null,
      "metadata": {
        "id": "3f52aYcwiBqa",
        "outputId": "73566d65-fbf2-4425-d20a-090eb12442ca"
      },
      "outputs": [
        {
          "data": {
            "text/plain": [
              "<matplotlib.legend.Legend at 0x2033746d8b0>"
            ]
          },
          "execution_count": 33,
          "metadata": {},
          "output_type": "execute_result"
        },
        {
          "data": {
            "image/png": "[encoded data removed]",
            "text/plain": [
              "<Figure size 640x480 with 1 Axes>"
            ]
          },
          "metadata": {},
          "output_type": "display_data"
        }
      ],
      "source": [
        "# test\n",
        "K = 4\n",
        "# find best estimate of parameters\n",
        "XX_train = poly_features(xtrain, K)\n",
        "theta_ml = nonlinear_features_maximum_likelihood(XX_train, ytrain)\n",
        "# print(XX_train)\n",
        "# print(theta_ml)\n",
        "\n",
        "# # Apply to test data\n",
        "XX_test = poly_features(xtest, K)\n",
        "ml_pred = predict_with_estimate(XX_test, theta_ml)\n",
        "\n",
        "# plot\n",
        "plt.figure\n",
        "plt.plot(xtrain, ytrain, 'xb')\n",
        "plt.plot(xtest, ml_pred, '-r')\n",
        "plt.xlabel(\"$x$\")\n",
        "plt.ylabel(\"$y$\")\n",
        "plt.title(\"Polynomial with M = 4\")\n",
        "plt.legend([\"data\", \"maximum likelihood fit\"])"
      ]
    },
    {
      "cell_type": "markdown",
      "metadata": {
        "id": "9X6RfE6oUiQT"
      },
      "source": [
        "# 3. Quality of prediction\n",
        "1. try out different degrees of polynomials\n",
        "\n",
        "2. Which one looks the best?\n",
        "\n",
        "Let's be more systematic in assessing the quality of the fit.\n",
        "For this we will use the root-mean-squared-error (RMSE) between the $y$-values predicted and the ground truth $y$ values:\n",
        "$$\n",
        "RMSE = \\sqrt{\\frac{1}{N}\\sum_{n=1}^N (y_n - y_n^{pred})^2}\n",
        "$$\n",
        "\n",
        "Write a function that computes the RMSE"
      ]
    },
    {
      "cell_type": "code",
      "execution_count": null,
      "metadata": {
        "id": "r6fRvCFUVZcQ"
      },
      "outputs": [],
      "source": [
        "## EDIT THIS FUNCtION\n",
        "def RMSE(y, ypred):\n",
        "  rmse = np.sqrt(np.mean((y - ypred) ** 2))\n",
        "  return rmse"
      ]
    },
    {
      "cell_type": "markdown",
      "metadata": {
        "id": "LtRmIQFsVxd7"
      },
      "source": [
        "Now compute the RMSE for different degrees of the polynomial"
      ]
    },
    {
      "cell_type": "markdown",
      "metadata": {
        "id": "ib7UpD2BXUPF"
      },
      "source": [
        "The RMSE on the training data is somewhat misleading, because we are interested in the generalization performance of the model. Therefore, we are going to compute the RMSE on the test set and use this to choose a good polynomial degree."
      ]
    },
    {
      "cell_type": "code",
      "execution_count": null,
      "metadata": {
        "id": "VvuxwETKXVhX",
        "outputId": "1c5b4d57-7f6f-4e83-8331-3fe711bdde5d"
      },
      "outputs": [
        {
          "data": {
            "image/png": "[encoded data removed]",
            "text/plain": [
              "<Figure size 640x480 with 1 Axes>"
            ]
          },
          "metadata": {},
          "output_type": "display_data"
        }
      ],
      "source": [
        "## EDIT THIS CELL\n",
        "K_max = 10\n",
        "rmse_train = np.zeros((K_max+1,))\n",
        "rmse_test = np.zeros((K_max+1,))\n",
        "\n",
        "for k in range(K_max+1):\n",
        "\n",
        "    # feature matrix\n",
        "    Phi = poly_features(xtrain, k)\n",
        "\n",
        "    # maximum likelihood estimate\n",
        "    theta_ml = nonlinear_features_maximum_likelihood(Phi, ytrain)\n",
        "\n",
        "    # predict y-values of training set\n",
        "    ypred_train = predict_with_estimate(Phi, theta_ml)\n",
        "\n",
        "    # RMSE on training set\n",
        "    rmse_train[k] = RMSE(ytrain, ypred_train)\n",
        "\n",
        "    # feature matrix for test inputs\n",
        "    Phi_test = poly_features(xtest, k)\n",
        "\n",
        "    # prediction (test set)\n",
        "    ypred_test = predict_with_estimate(Phi_test, theta_ml)\n",
        "\n",
        "    # RMSE on test set\n",
        "    rmse_test[k] = RMSE(ytest, ypred_test)\n",
        "\n",
        "\n",
        "plt.figure()\n",
        "plt.semilogy(rmse_train) # this plots the RMSE on a logarithmic scale\n",
        "plt.semilogy(rmse_test) # this plots the RMSE on a logarithmic scale\n",
        "plt.xlabel(\"degree of polynomial\")\n",
        "plt.ylabel(\"RMSE\")\n",
        "plt.legend([\"training set\", \"test set\"]);\n"
      ]
    },
    {
      "cell_type": "markdown",
      "metadata": {
        "id": "5StFIkGHXh7j"
      },
      "source": [
        "\n",
        "## Questions:\n",
        "1. What do you observe now?\n",
        "\n",
        "**Answer:** As the degree of the polynomial increases, the RMSE for the training set generally decreases, suggesting that the model is fitting the training data better with higher degree polynomials while the RMSE for testing set increases.\n",
        "\n",
        "2. Why does the RMSE for the test set not always go down?\n",
        "\n",
        "**Answer:** The RMSE for the test set initially decreases and then starts to increase. This could indicate overfitting, where the model fits the training data too well, capturing noise instead of the underlying data pattern, which does not generalize well to new, unseen data.\n",
        "\n",
        "3. Which polynomial degree would you choose now?\n",
        "\n",
        "**Answer:** According to these graph that I plotted below, the best polynomial degree I choose is 1 which is linear regression because the RMSE of linear regression is minimum. It means that the model fits well in both training and testing set while comparing to the other degrees of polynomial.\n",
        "\n",
        "4. Plot the fit for the \"best\" polynomial degree.\n",
        "\n"
      ]
    },
    {
      "cell_type": "code",
      "execution_count": null,
      "metadata": {
        "id": "BPFKVR_fXn9d",
        "outputId": "1dbf5b47-0bf8-44e4-a808-bb693ecf6bbf"
      },
      "outputs": [
        {
          "data": {
            "text/plain": [
              "<matplotlib.legend.Legend at 0x20338d65df0>"
            ]
          },
          "execution_count": 36,
          "metadata": {},
          "output_type": "execute_result"
        },
        {
          "data": {
            "image/png": "[encoded data removed]",
            "text/plain": [
              "<Figure size 640x480 with 1 Axes>"
            ]
          },
          "metadata": {},
          "output_type": "display_data"
        }
      ],
      "source": [
        "## WRITE THE PLOTTING CODE HERE\n",
        "k_best = 1 ## <--- EDIT THIS LINE\n",
        "\n",
        "# Apply to test data\n",
        "XX_train = poly_features(xtrain, k_best)\n",
        "theta_ml = nonlinear_features_maximum_likelihood(XX_train, ytrain)\n",
        "\n",
        "# # Apply to test data\n",
        "XX_test = poly_features(xtest, k_best)\n",
        "ml_pred = predict_with_estimate(XX_test, theta_ml)\n",
        "\n",
        "# plot\n",
        "plt.figure()\n",
        "plt.plot(xtrain, ytrain, '+b')\n",
        "plt.plot(xtest, ml_pred, '-r')\n",
        "plt.xlabel(\"$x$\")\n",
        "plt.ylabel(\"$y$\")\n",
        "plt.legend([\"data\", \"maximum likelihood fit\"])"
      ]
    },
    {
      "cell_type": "markdown",
      "metadata": {
        "id": "jiwdPoPIXt4A"
      },
      "source": [
        "## Question\n",
        "If you did not have a designated test set, what could you do to estimate the generalization error (purely using the training set)?\n"
      ]
    },
    {
      "cell_type": "markdown",
      "metadata": {
        "id": "vfug_fCwI5Zg"
      },
      "source": [
        "**Answers:** If we did not have a designated test set, we can estimate the generalization error by cross-validation.  The most common method is k-fold cross-validation. The training data is divided into 'k' subsets, and the model is trained 'k' times, each time using a different subset as the validation set and the remaining data as the training set. The average error across all 'k' trials is used as the estimate of generalization error. In addition, we can use another method such as Regularization method"
      ]
    },
    {
      "cell_type": "markdown",
      "metadata": {
        "id": "lw7sGM3M1DUD"
      },
      "source": [
        "## **4. Gradient Descent**\n",
        "\n",
        "We will now use gradient descent to find the optimal values of the parameters $\\theta$\n",
        "\n",
        "Remember gradient descent algo is:\n",
        "\n",
        "- repeat until convergence:\n",
        "- $\\theta_{k} = \\theta_{k-1} -\\alpha ∇(J)$, where $J$ is the cost function\n",
        "\n",
        "In our case of linear regression, the cost function is defined as\n",
        "$$\n",
        "J(\\theta) = \\frac{1}{2}\\sum_{i=1}^N (f(x_i) - y_i)^2 = \\frac{1}{2}\\sum_{i=1}^N (\\phi(x_i)^T \\theta - y_i)^2\n",
        "$$"
      ]
    },
    {
      "cell_type": "markdown",
      "metadata": {
        "id": "VPpqH4B54GaH"
      },
      "source": [
        "## Question\n",
        "1. Compute the gradient of $J$ with respect to $\\theta$\n",
        "2. Write a function that compute the gradient of $J$\n",
        "\n",
        "The gradient is equal to:\n",
        "$$\n",
        "\\frac{∂}{∂ \\theta_j} J(θ) = \\sum_{i=1}^N (\\phi_j(x_i)\\theta_j - y_i)\\phi_j(x_i), \\; ∀ j\n",
        "$$\n"
      ]
    },
    {
      "cell_type": "code",
      "execution_count": null,
      "metadata": {
        "id": "OUhZ7EE9I5Zg"
      },
      "outputs": [],
      "source": [
        "def cost_function(X, y, theta):\n",
        "    N = X.shape[0]\n",
        "    cost = np.sum(np.square(np.dot(X, theta) - y)) / (N*2)\n",
        "    return cost"
      ]
    },
    {
      "cell_type": "code",
      "execution_count": null,
      "metadata": {
        "id": "O7z3dIO04c4M"
      },
      "outputs": [],
      "source": [
        "def grad_cost_function(X, y, theta):\n",
        "  # X is the data matrix of size N x D\n",
        "  # y is the vector of true lables of size N x 1\n",
        "  # theta is the current value of the parameters\n",
        "  N = X.shape[0]\n",
        "  grad = (1/N) * np.dot(X.T, (np.dot(X, theta) - y))\n",
        "\n",
        "  return grad\n"
      ]
    },
    {
      "cell_type": "markdown",
      "metadata": {
        "id": "qrSCN0vb5ryC"
      },
      "source": [
        "## Question\n",
        "Implement the gradient descent algorithm as a function"
      ]
    },
    {
      "cell_type": "code",
      "execution_count": null,
      "metadata": {
        "id": "UBRJCw7q5zAR"
      },
      "outputs": [],
      "source": [
        "def grad_descent(X, y, theta, alpha, epsilon, Nmax):\n",
        "  # X is the data matrix of size N x D\n",
        "  # y is the vector of true lables of size N x 1\n",
        "  # theta is the intial value of the parameters\n",
        "  # alpha is the learning rate of the gradient descent\n",
        "  # epsilon is the tolerance to stop iterations\n",
        "  # Nmax is the max number of iterations alalowed\n",
        "  # N = X.shape[0]\n",
        "  prev_cost = float('inf')\n",
        "  for i in range(Nmax):\n",
        "    # y_pred = np.dot(X, theta)\n",
        "    cost = cost_function(X, y, theta)\n",
        "    # grad = (1/N) * np.dot(X.T, (y_pred - y))\n",
        "    grad = grad_cost_function(X, y, theta)\n",
        "    if la.norm(grad) < epsilon:\n",
        "      break\n",
        "    theta = theta - alpha * grad\n",
        "    prev_cost = cost\n",
        "  return theta\n",
        ""
      ]
    },
    {
      "cell_type": "markdown",
      "metadata": {
        "id": "pE_XXIs86H9f"
      },
      "source": [
        "## Question\n",
        "Apply your gradient descent algo to the data define above and compare the obtained results with those obtained with direct computation"
      ]
    },
    {
      "cell_type": "code",
      "execution_count": null,
      "metadata": {
        "id": "dEqylPn-I5Zh",
        "outputId": "d82b9e47-1d78-4b3f-ca4b-a6f942c5bb84"
      },
      "outputs": [
        {
          "data": {
            "text/plain": [
              "array([[-0.34510238],\n",
              "       [-0.20652469]])"
            ]
          },
          "execution_count": 93,
          "metadata": {},
          "output_type": "execute_result"
        }
      ],
      "source": [
        "k = 1 ## <--- EDIT THIS LINE\n",
        "Nmax = 100\n",
        "alpha = 0.1\n",
        "epsilon = 1e-3\n",
        "\n",
        "# Apply to test data\n",
        "XX_train = poly_features(xtrain, k)\n",
        "# theta_ml = nonlinear_features_maximum_likelihood(XX_train, ytrain)\n",
        "theta = (np.array([[1, 0.5]])).T\n",
        "\n",
        "theta_ml = grad_descent(XX_train, ytrain, theta, alpha, epsilon, Nmax)\n",
        "theta_ml"
      ]
    },
    {
      "cell_type": "markdown",
      "metadata": {
        "id": "KYAQR-G76Vpk"
      },
      "source": [
        "## Question\n",
        "Now, modify the gradient descent function, to make stochastic gradient descent (with a mini-batch)"
      ]
    },
    {
      "cell_type": "code",
      "execution_count": null,
      "metadata": {
        "id": "wzp_Ho1ssfPj"
      },
      "outputs": [],
      "source": [
        "def stochastic_grad_descent(X, y, theta, alpha, epsilon, Nmax, batch_size):\n",
        "  # X is the data matrix of size N x D\n",
        "  # y is the vector of true lables of size N x 1\n",
        "  # theta is the intial value of the parameters\n",
        "  # alpha is the learning rate of the gradient descent\n",
        "  # epsilon is the tolerance to stop iterations\n",
        "  # Nmax is the max number of iterations alalowed\n",
        "  # batch_size is the what the name tells\n",
        "  prev_cost = float('inf')\n",
        "  batch_num = X.shape[0] // batch_size\n",
        "  for i in range (Nmax):\n",
        "    idx = np.random.permutation(X.shape[0])\n",
        "    X_idx = X[idx]\n",
        "    y_idx = y[idx]\n",
        "    for j in range(batch_num):\n",
        "      idx1 = j * batch_size\n",
        "      idx2 = (j + 1) * batch_size\n",
        "      X_batch = X_idx[idx1:idx2]\n",
        "      y_batch = y_idx[idx1:idx2]\n",
        "      cost = cost_function(X, y, theta)\n",
        "      grad = grad_cost_function(X, y, theta)\n",
        "      if la.norm(grad) < epsilon:\n",
        "        break\n",
        "      theta = theta - alpha * grad\n",
        "      prev_cost = cost\n",
        "  return theta"
      ]
    },
    {
      "cell_type": "code",
      "execution_count": null,
      "metadata": {
        "id": "869HyNjQI5Zr",
        "outputId": "40957841-be88-4d80-fb83-b4c756d57533"
      },
      "outputs": [
        {
          "data": {
            "text/plain": [
              "array([[-0.34510238],\n",
              "       [-0.20652469]])"
            ]
          },
          "execution_count": 95,
          "metadata": {},
          "output_type": "execute_result"
        }
      ],
      "source": [
        "k = 1 ## <--- EDIT THIS LINE\n",
        "Nmax = 100\n",
        "alpha = 0.1\n",
        "epsilon = 1e-3\n",
        "batch_size = 10\n",
        "\n",
        "# Apply to test data\n",
        "XX_train = poly_features(xtrain, k)\n",
        "# theta_ml = nonlinear_features_maximum_likelihood(XX_train, ytrain)\n",
        "theta = (np.array([[1, 0.5]])).T\n",
        "\n",
        "theta_ml = stochastic_grad_descent(XX_train, ytrain, theta, alpha, epsilon, Nmax, batch_size)\n",
        "theta_ml"
      ]
    },
    {
      "cell_type": "markdown",
      "metadata": {
        "id": "XS65c7vyspyz"
      },
      "source": [
        "## Question\n",
        "Compare the two gradient descent algorithm; which one converges faster?\n",
        "\n",
        "Test both with more data, for example N = 5000 training examples"
      ]
    },
    {
      "cell_type": "code",
      "execution_count": null,
      "metadata": {
        "id": "wjYSWlxZI5Zr"
      },
      "outputs": [],
      "source": [
        "N = 5000\n",
        "mu, sigma = 0, 0.2\n",
        "eps = np.random.normal(mu, sigma, N).reshape(-1,1)\n",
        "xtrain = np.random.uniform(-5, 5, size=(1, N)).reshape(-1,1)\n",
        "ytrain = - np.sin(xtrain/5) + np.cos(xtrain) + eps"
      ]
    },
    {
      "cell_type": "code",
      "execution_count": null,
      "metadata": {
        "id": "JJ701-QXI5Zr",
        "outputId": "04e17a18-8df3-4b4b-94c6-0d1b972a2fef"
      },
      "outputs": [
        {
          "data": {
            "text/plain": [
              "(0.014002561569213867, 0.3430778980255127)"
            ]
          },
          "execution_count": 104,
          "metadata": {},
          "output_type": "execute_result"
        }
      ],
      "source": [
        "import time\n",
        "k = 1 ## <--- EDIT THIS LINE\n",
        "Nmax = 1000\n",
        "alpha = 0.1\n",
        "epsilon = 1e-3\n",
        "batch_size = 10\n",
        "\n",
        "# Apply to test data\n",
        "XX_train = poly_features(xtrain, k)\n",
        "# theta_ml = nonlinear_features_maximum_likelihood(XX_train, ytrain)\n",
        "theta = (np.array([[1, 0.5]])).T\n",
        "\n",
        "start1 = time.time()\n",
        "theta_grad = grad_descent(XX_train, ytrain, theta, alpha, epsilon, Nmax)\n",
        "end1 = time.time()\n",
        "t_grad = end1 - start1\n",
        "\n",
        "start2 = time.time()\n",
        "theta_stoc = stochastic_grad_descent(XX_train, ytrain, theta, alpha, epsilon, Nmax, batch_size)\n",
        "end2 = time.time()\n",
        "t_stoc = end2 - start2\n",
        "\n",
        "t_grad, t_stoc\n"
      ]
    },
    {
      "cell_type": "markdown",
      "metadata": {
        "id": "Q7bPVSOOI5Zr"
      },
      "source": [
        "**Answers:**\n",
        "In terms of computational efficiency per iteration, SGD generally converses faster since it doesn't require the entire dataset to make an update, making it particularly advantageous for large datasets. However, in terms of reaching the global minimum of the cost function, Gradient Descent can be more efficient if computational resources and data size are not issues."
      ]
    }
  ],
  "metadata": {
    "colab": {
      "provenance": [],
      "include_colab_link": true
    },
    "kernelspec": {
      "display_name": "Python 3",
      "language": "python",
      "name": "python3"
    },
    "language_info": {
      "codemirror_mode": {
        "name": "ipython",
        "version": 3
      },
      "file_extension": ".py",
      "mimetype": "text/x-python",
      "name": "python",
      "nbconvert_exporter": "python",
      "pygments_lexer": "ipython3",
      "version": "3.8.10"
    }
  },
  "nbformat": 4,
  "nbformat_minor": 0
}